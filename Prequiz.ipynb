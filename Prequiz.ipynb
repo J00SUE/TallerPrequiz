{
 "cells": [
  {
   "cell_type": "code",
   "execution_count": 18,
   "metadata": {},
   "outputs": [
    {
     "ename": "SyntaxError",
     "evalue": "(unicode error) 'unicodeescape' codec can't decode bytes in position 2-3: truncated \\UXXXXXXXX escape (593235362.py, line 66)",
     "output_type": "error",
     "traceback": [
      "\u001b[1;36m  Cell \u001b[1;32mIn[18], line 66\u001b[1;36m\u001b[0m\n\u001b[1;33m    ruta = Load(\"C:\\Users\\Chimuelo\\OneDrive\\Escritorio\\Taller Prequiz\\pacientesRayosX.csv\")\u001b[0m\n\u001b[1;37m                                                                                          ^\u001b[0m\n\u001b[1;31mSyntaxError\u001b[0m\u001b[1;31m:\u001b[0m (unicode error) 'unicodeescape' codec can't decode bytes in position 2-3: truncated \\UXXXXXXXX escape\n"
     ]
    }
   ],
   "source": [
    "import numpy as np\n",
    "import matplotlib.pyplot as plt\n",
    "import pandas as pd\n",
    "import scipy.io as sp\n",
    "\n",
    "#Punto 1 \n",
    "\n",
    "Matriz = np.random.rand(2, 2, 1, 300000)\n",
    "\n",
    "#Punto 2\n",
    "Matriz_2 = Matriz.copy()\n",
    "Matriz_2 = Matriz_2[:,:,:,0]\n",
    "\n",
    "print(\"Matriz = {}\" .format(Matriz))\n",
    "\n",
    "#Punto 3\n",
    "print (\"Nueva matriz 3D = {}\" .format(Matriz_2))\n",
    "print(\"Size = {}\" .format(Matriz_2.size))\n",
    "print (\"Dimension = {}\" .format(Matriz_2.ndim))\n",
    "print (\"Shape - {}\" .format(Matriz_2.shape))\n",
    "print(\"Tipo = {}\" .format(Matriz_2.dtype))\n",
    "\n",
    "#Punto 4\n",
    "Matriz_3 = np.reshape(Matriz_2, (2, -1))\n",
    "print (\"Nueva matriz 2D = {}\" .format(Matriz_3))\n",
    "print(\"Size = {}\" .format(Matriz_3.size))\n",
    "print(\"Dimension = {}\" .format(Matriz_3.ndim) )\n",
    "print(\"Shape = {}\" .format(Matriz_3.shape))\n",
    "print(\"Tipo = {} \" .format(Matriz_3.dtype) )\n",
    "\n",
    "#Punto 5 \n",
    "def Panda(Matriz):\n",
    "    DF = pd.DataFrame(Matriz)\n",
    "    return DF\n",
    "DataFrame = Panda(Matriz_3)\n",
    "print (\"DataFrame = {}\". format(DataFrame))\n",
    "\n",
    "#Punto 6\n",
    "def Load(Archivo):\n",
    "    if Archivo.endswith(\".mat\"):\n",
    "        Datos - sp.loadmat(Archivo)\n",
    "        return Datos \n",
    "    elif Archivo.endswith(\".csv\"):\n",
    "        Datos = pd.read_csv(Archivo)\n",
    "        return Datos\n",
    "    else:\n",
    "        print(\"No compatible\") \n",
    "\n",
    "#Punto 7\n",
    "def Sum_(Matriz, eje= 0 ): \n",
    "    return np.sum(Matriz, axis= eje)\n",
    "def Rest_(Matriz, eje= 0):\n",
    "    return np.subtract (Matriz, axis= eje)\n",
    "def Mult_(Matriz, eje= 0):\n",
    "    return np.product(Matriz, axis= eje)\n",
    "def Div_ (Matriz, eje=  0):\n",
    "    return np.divide(Matriz, axis= eje)\n",
    "def Log_(Matriz, eje= 0):\n",
    "    return np.log(Matriz, axis= eje)\n",
    "def Prom_(Matriz, eje= 0):\n",
    "    return np.mean(Matriz, axis= eje)\n",
    "def Desy_(Matriz, eje= 0):\n",
    "    return np.std(Matriz, axis= eje)\n",
    "\n",
    "#Punto 8 \n",
    "ruta = Load(\"C:\\Users\\Chimuelo\\OneDrive\\Escritorio\\TallerPrequiz\\pacientesRayosX.csv\")\n",
    "print(ruta)\n",
    "\n",
    "\n",
    "\n"
   ]
  }
 ],
 "metadata": {
  "kernelspec": {
   "display_name": "base",
   "language": "python",
   "name": "python3"
  },
  "language_info": {
   "codemirror_mode": {
    "name": "ipython",
    "version": 3
   },
   "file_extension": ".py",
   "mimetype": "text/x-python",
   "name": "python",
   "nbconvert_exporter": "python",
   "pygments_lexer": "ipython3",
   "version": "3.11.4"
  }
 },
 "nbformat": 4,
 "nbformat_minor": 2
}
